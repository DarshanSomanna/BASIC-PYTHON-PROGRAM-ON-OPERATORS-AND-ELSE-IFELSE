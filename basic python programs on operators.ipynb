{
 "cells": [
  {
   "cell_type": "markdown",
   "id": "ce259fe4",
   "metadata": {},
   "source": [
    "## Python program to add two numbers"
   ]
  },
  {
   "cell_type": "code",
   "execution_count": 4,
   "id": "d551319f",
   "metadata": {},
   "outputs": [
    {
     "name": "stdout",
     "output_type": "stream",
     "text": [
      "enter number :10\n",
      "enter number :10\n",
      "20\n"
     ]
    }
   ],
   "source": [
    "num1=int(input(\"enter number :\" ))\n",
    "num2=int(input(\"enter number :\" ))\n",
    "sum=(num1+num2)\n",
    "print(sum)"
   ]
  },
  {
   "cell_type": "code",
   "execution_count": null,
   "id": "9677c5bd",
   "metadata": {},
   "outputs": [],
   "source": [
    "def add(n1,n2):\n",
    "    sum=n1+n2\n",
    "    return sum"
   ]
  },
  {
   "cell_type": "code",
   "execution_count": null,
   "id": "29e42e76",
   "metadata": {},
   "outputs": [],
   "source": [
    "add(2,10)"
   ]
  },
  {
   "cell_type": "markdown",
   "id": "fdbb6479",
   "metadata": {},
   "source": [
    "## Python Program to Perform all arithmetic operations "
   ]
  },
  {
   "cell_type": "code",
   "execution_count": 3,
   "id": "9fd51100",
   "metadata": {},
   "outputs": [
    {
     "name": "stdout",
     "output_type": "stream",
     "text": [
      "30\n",
      "-10\n",
      "200\n",
      "0.5\n"
     ]
    }
   ],
   "source": [
    "num1=10\n",
    "num2=20\n",
    "sumation=(num1+num2)\n",
    "print(sumation)\n",
    "sub=(num1-num2)\n",
    "print(sub)\n",
    "multi=(num1*num2)\n",
    "print(multi)\n",
    "division= float(num1)/float(num2)\n",
    "print(division)"
   ]
  },
  {
   "cell_type": "markdown",
   "id": "7f59d256",
   "metadata": {},
   "source": [
    "## Python Program for Program to find area of a circle "
   ]
  },
  {
   "cell_type": "code",
   "execution_count": 5,
   "id": "e10aee3b",
   "metadata": {},
   "outputs": [
    {
     "name": "stdout",
     "output_type": "stream",
     "text": [
      "Please enter the radius of the given circle: 10\n",
      " The area of the given circle is:  314.0\n"
     ]
    }
   ],
   "source": [
    "π = 3.14  \n",
    "Radius = float (input (\"Please enter the radius of the given circle: \"))  \n",
    "area_of_the_circle = π * Radius * Radius  \n",
    "print (\" The area of the given circle is: \", area_of_the_circle)  "
   ]
  },
  {
   "cell_type": "code",
   "execution_count": 6,
   "id": "f902e4fe",
   "metadata": {},
   "outputs": [
    {
     "name": "stdout",
     "output_type": "stream",
     "text": [
      "314.1592653589793\n"
     ]
    }
   ],
   "source": [
    "import math as M\n",
    "r=10\n",
    "area_circle= M.pi*r*r\n",
    "print(area_circle)"
   ]
  },
  {
   "cell_type": "markdown",
   "id": "7964256d",
   "metadata": {},
   "source": [
    "Python Program to find Area and Perimeter of Square and Rectangle \n",
    "Python Program to find simple interest \n",
    "Python Program to Find Compound Interest \n",
    "Python Program to Convert fahrenheit to celsius Temperature"
   ]
  },
  {
   "cell_type": "code",
   "execution_count": 15,
   "id": "4f999b95",
   "metadata": {},
   "outputs": [
    {
     "name": "stdout",
     "output_type": "stream",
     "text": [
      "area of sqaure 100\n",
      "area of rectangle 200\n",
      "perimeter of rectangle 40\n",
      "periater of rectangle 60\n"
     ]
    }
   ],
   "source": [
    "side=10\n",
    "l=10\n",
    "b=20\n",
    "print(\"area of sqaure {0}\".format(side**2))\n",
    "print(\"area of rectangle {0}\".format(l*b))\n",
    "print(\"perimeter of rectangle {0}\".format(side*4))\n",
    "print(\"periater of rectangle {0}\".format(2*(l+b)))"
   ]
  },
  {
   "cell_type": "markdown",
   "id": "871999f0",
   "metadata": {},
   "source": [
    "SI Formula\tS.I. = Principal × Rate × Time\n",
    "CI Formula\tC.I. = Principal (1 + Rate)^Time − Principal"
   ]
  },
  {
   "cell_type": "code",
   "execution_count": 17,
   "id": "f9851036",
   "metadata": {},
   "outputs": [
    {
     "name": "stdout",
     "output_type": "stream",
     "text": [
      "86 degree Fahrenheit is equal to 30.0 degree Celsius.\n"
     ]
    }
   ],
   "source": [
    "fahrenheit = 86\n",
    "celsius = (fahrenheit - 32)/1.8\n",
    "print(str(fahrenheit )+ \" degree Fahrenheit is equal to \" + str(celsius ) + \" degree Celsius.\" )"
   ]
  },
  {
   "cell_type": "code",
   "execution_count": 18,
   "id": "e05e03be",
   "metadata": {},
   "outputs": [
    {
     "name": "stdout",
     "output_type": "stream",
     "text": [
      "54 degree Celsius is equal to 129.2 degree Fahrenheit.\n"
     ]
    }
   ],
   "source": [
    "celsius = 54\n",
    "fahrenheit = (celsius * 1.8) + 32\n",
    "print(str(celsius )+ \" degree Celsius is equal to \" + str(fahrenheit )+ \" degree Fahrenheit.\")"
   ]
  },
  {
   "cell_type": "code",
   "execution_count": null,
   "id": "7be4c985",
   "metadata": {},
   "outputs": [],
   "source": []
  }
 ],
 "metadata": {
  "kernelspec": {
   "display_name": "Python 3 (ipykernel)",
   "language": "python",
   "name": "python3"
  },
  "language_info": {
   "codemirror_mode": {
    "name": "ipython",
    "version": 3
   },
   "file_extension": ".py",
   "mimetype": "text/x-python",
   "name": "python",
   "nbconvert_exporter": "python",
   "pygments_lexer": "ipython3",
   "version": "3.9.13"
  }
 },
 "nbformat": 4,
 "nbformat_minor": 5
}
